{
  "nbformat": 4,
  "nbformat_minor": 0,
  "metadata": {
    "colab": {
      "provenance": []
    },
    "kernelspec": {
      "name": "python3",
      "display_name": "Python 3"
    },
    "language_info": {
      "name": "python"
    }
  },
  "cells": [
    {
      "cell_type": "markdown",
      "source": [
        "[Vaibhav Rokde](https://www.kaggle.com/ichhadhari)"
      ],
      "metadata": {
        "id": "lJBlYTFuLjEt"
      }
    },
    {
      "cell_type": "markdown",
      "source": [
        "# concepts "
      ],
      "metadata": {
        "id": "H37fqot61Yj5"
      }
    },
    {
      "cell_type": "markdown",
      "source": [
        "Statistics plays a fundamental role in data science as it provides the tools and techniques for collecting, analyzing, interpreting, and making inferences from data. Here are some key statistics concepts and techniques used in data science:"
      ],
      "metadata": {
        "id": "B-P9rNH01SOQ"
      }
    },
    {
      "cell_type": "markdown",
      "source": [
        "**Descriptive Statistics:** \n",
        "  Descriptive statistics summarize and describe the main features of a dataset. They include measures such as *mean, median, mode, standard deviation, variance, range, and percentiles.*"
      ],
      "metadata": {
        "id": "jpXNOQJL1T2Y"
      }
    },
    {
      "cell_type": "markdown",
      "source": [
        "**Inferential Statistics:** Inferential statistics involve making predictions or inferences about a population based on a sample. It includes techniques such as *hypothesis testing, confidence intervals, and regression analysis*."
      ],
      "metadata": {
        "id": "WPzBPCVI1l-_"
      }
    },
    {
      "cell_type": "markdown",
      "source": [
        "**Probability:** Probability theory provides a mathematical framework for quantifying uncertainty. It is used to model random events and calculate the likelihood of different outcomes."
      ],
      "metadata": {
        "id": "o9mDzJsa1wE3"
      }
    },
    {
      "cell_type": "markdown",
      "source": [
        "**Probability Distributions:** Probability distributions describe the likelihood of different values occurring in a dataset. Commonly used distributions include the *normal distribution, binomial distribution, Poisson distribution, and exponential distribution.*"
      ],
      "metadata": {
        "id": "4Ex2v3uW2De4"
      }
    },
    {
      "cell_type": "markdown",
      "source": [
        "**Hypothesis Testing:** Hypothesis testing is used to make decisions or draw conclusions about a population based on sample data. It involves formulating a null hypothesis and an alternative hypothesis, collecting data, and performing statistical tests to determine if there is enough evidence to reject or accept the null hypothesis."
      ],
      "metadata": {
        "id": "CAO3ddfv2L4O"
      }
    },
    {
      "cell_type": "markdown",
      "source": [
        "**Confidence Intervals:** A confidence interval provides a range of values within which the true population parameter is likely to fall with a certain level of confidence. It is often used to estimate the precision of sample statistics, such as the mean or proportion."
      ],
      "metadata": {
        "id": "vofRTEs62RzR"
      }
    },
    {
      "cell_type": "markdown",
      "source": [
        "**Regression Analysis:** Regression analysis is a statistical technique used to model the relationship between a dependent variable and one or more independent variables. It helps to understand how changes in the independent variables are associated with changes in the dependent variable."
      ],
      "metadata": {
        "id": "3lVHKMrf2X8p"
      }
    },
    {
      "cell_type": "markdown",
      "source": [
        "**Experimental Design:** Experimental design involves planning and conducting studies to investigate the effect of specific variables on an outcome of interest. It includes techniques such as randomization, control groups, and factorial designs to minimize bias and maximize the validity of the results."
      ],
      "metadata": {
        "id": "6KZOq4Hk2dQJ"
      }
    },
    {
      "cell_type": "markdown",
      "source": [
        "**Data Visualization:** Data visualization techniques, such as histograms, scatter plots, box plots, and heatmaps, are used to visually explore and present data to gain insights and communicate findings effectively."
      ],
      "metadata": {
        "id": "T00khLir2kee"
      }
    },
    {
      "cell_type": "markdown",
      "source": [
        "**Machine Learning:** Machine learning algorithms often rely on statistical techniques for model training, evaluation, and interpretation. Concepts such as cross-validation, regularization, and model selection are rooted in statistical principles."
      ],
      "metadata": {
        "id": "9CNyLIpH2r8R"
      }
    },
    {
      "cell_type": "markdown",
      "source": [
        "# Descriptive Statistics\n",
        "\n",
        "\n",
        "Descriptive statistics are used to summarize and describe the main features of a dataset. They provide a way to understand the distribution, central tendency, and variability of the data."
      ],
      "metadata": {
        "id": "bAzJc6TE25ix"
      }
    },
    {
      "cell_type": "markdown",
      "source": [
        "## Measures of Frequency:\n",
        "\n",
        "**Count**: The number of observations in a dataset.\n",
        "\n",
        "**Frequency**: The number of times a particular value appears in the dataset. A frequency distribution shows the count or frequency for each unique value."
      ],
      "metadata": {
        "id": "ItLm3oda4CO8"
      }
    },
    {
      "cell_type": "code",
      "source": [
        "import pandas as pd\n",
        "\n",
        "# Create a sample dataset\n",
        "data = [1, 2, 3, 4, 5, 2, 3, 4, 4, 5, 5, 5]\n",
        "df = pd.DataFrame(data, columns=['Values'])\n",
        "\n",
        "# Calculate the count of each value\n",
        "value_counts = df['Values'].value_counts()\n",
        "print(\"Value Counts:\\n\", value_counts)\n",
        "\n",
        "# Calculate the frequency of each value\n",
        "value_frequencies = df['Values'].value_counts(normalize=True)\n",
        "print(\"Value Frequencies:\\n\", value_frequencies)\n"
      ],
      "metadata": {
        "colab": {
          "base_uri": "https://localhost:8080/"
        },
        "id": "v-0yVWkN4KIM",
        "outputId": "acb973db-8bcd-4513-f275-0fc7acda2a30"
      },
      "execution_count": null,
      "outputs": [
        {
          "output_type": "stream",
          "name": "stdout",
          "text": [
            "Value Counts:\n",
            " 5    4\n",
            "4    3\n",
            "2    2\n",
            "3    2\n",
            "1    1\n",
            "Name: Values, dtype: int64\n",
            "Value Frequencies:\n",
            " 5    0.333333\n",
            "4    0.250000\n",
            "2    0.166667\n",
            "3    0.166667\n",
            "1    0.083333\n",
            "Name: Values, dtype: float64\n"
          ]
        }
      ]
    },
    {
      "cell_type": "markdown",
      "source": [
        "## Measures of Central Tendency:\n",
        "\n",
        "**Mean**: The average value of the data points in a dataset. It is calculated by summing all the values and dividing by the total number of observations.\n",
        "\n",
        "**Median**: The middle value in a dataset when it is sorted in ascending or descending order. It divides the dataset into two equal halves.\n",
        "\n",
        "**Mode**: The most frequently occurring value in a dataset."
      ],
      "metadata": {
        "id": "OPmIp6cw3DeU"
      }
    },
    {
      "cell_type": "code",
      "source": [
        "import pandas as pd\n",
        "\n",
        "# Create a sample dataset\n",
        "data = pd.Series([10, 12, 15, 18, 20, 22, 25, 28, 30])\n",
        "\n",
        "# Calculate mean\n",
        "mean = data.mean()\n",
        "print(\"Mean:\", mean)\n",
        "\n",
        "# Calculate median\n",
        "median = data.median()\n",
        "print(\"Median:\", median)\n",
        "\n",
        "# Calculate mode\n",
        "mode = data.mode()\n",
        "print(\"Mode:\", mode)"
      ],
      "metadata": {
        "colab": {
          "base_uri": "https://localhost:8080/"
        },
        "id": "HU4iN9N04dWb",
        "outputId": "89a1f219-cb8f-4cba-a544-669da2660b19"
      },
      "execution_count": null,
      "outputs": [
        {
          "output_type": "stream",
          "name": "stdout",
          "text": [
            "Mean: 20.0\n",
            "Median: 20.0\n",
            "Mode: 0    10\n",
            "1    12\n",
            "2    15\n",
            "3    18\n",
            "4    20\n",
            "5    22\n",
            "6    25\n",
            "7    28\n",
            "8    30\n",
            "dtype: int64\n"
          ]
        }
      ]
    },
    {
      "cell_type": "markdown",
      "source": [
        "## Measures of Variability:\n",
        "\n",
        "**Standard Deviation:** It measures the dispersion or spread of the data points around the mean. A higher standard deviation indicates greater variability.\n",
        "\n",
        "**Variance**: The average of the squared differences between each data point and the mean. It provides a measure of the average deviation from the mean.\n",
        "\n",
        "**Range**: The difference between the maximum and minimum values in a dataset.\n",
        "\n",
        "**Interquartile Range (IQR)**: The range between the first quartile (25th percentile) and the third quartile (75th percentile). It provides a measure of the spread of the central half of the data."
      ],
      "metadata": {
        "id": "_HYMWKhM3OPy"
      }
    },
    {
      "cell_type": "markdown",
      "source": [
        "## Measures of Shape and Distribution:\n",
        "\n",
        "**Skewness**: It measures the asymmetry of the data distribution. A positive skewness indicates a longer tail on the right side, while negative skewness indicates a longer tail on the left side.\n",
        "\n",
        "**Kurtosis**: It measures the peakedness or flatness of the data distribution. High kurtosis indicates a sharper peak, while low kurtosis indicates a flatter distribution."
      ],
      "metadata": {
        "id": "HlKAl5UM3pDM"
      }
    },
    {
      "cell_type": "markdown",
      "source": [
        "# Probability Distribution "
      ],
      "metadata": {
        "id": "7xYyjjkUntYa"
      }
    },
    {
      "cell_type": "markdown",
      "source": [
        "**Uniform Distribution:**\n",
        "\n",
        "The uniform distribution assigns equal probability to all values within a specified range.\n",
        "All outcomes are equally likely.\n",
        "Examples: Rolling a fair die, selecting a random number between a and b.\n",
        "\n",
        "**Normal Distribution (Gaussian Distribution):**\n",
        "\n",
        "The normal distribution is a symmetric bell-shaped distribution.\n",
        "It is characterized by its mean (μ) and standard deviation (σ).\n",
        "Many real-world phenomena follow the normal distribution.\n",
        "Examples: Heights and weights of individuals, errors in measurements.\n",
        "\n",
        "\n",
        "**Binomial Distribution:**\n",
        "\n",
        "The binomial distribution describes the number of successes (k) in a fixed number of independent Bernoulli trials.\n",
        "It is characterized by the number of trials (n) and the probability of success in each trial (p).\n",
        "Examples: Coin flips, success/failure experiments.\n",
        "\n",
        "\n",
        "**Poisson Distribution:**\n",
        "\n",
        "The Poisson distribution models the number of events occurring within a fixed interval of time or space.\n",
        "It is characterized by the average rate of event occurrence (λ).\n",
        "It is often used to model rare events.\n",
        "Examples: Number of phone calls received in an hour, number of accidents in a day.\n",
        "\n",
        "\n",
        "**Exponential Distribution:**\n",
        "\n",
        "The exponential distribution models the time between events occurring in a Poisson process.\n",
        "It is characterized by the rate parameter (λ) which represents the average event rate.\n",
        "It is often used in survival analysis and reliability studies.\n",
        "Examples: Time between phone calls, time between arrivals at a service counter.\n",
        "\n",
        "\n",
        "**Bernoulli Distribution:**\n",
        "\n",
        "The Bernoulli distribution represents a single trial with two possible outcomes: success (1) or failure (0).\n",
        "It is characterized by the probability of success (p).\n",
        "Examples: Flipping a coin (success = heads, failure = tails), success/failure experiments.\n"
      ],
      "metadata": {
        "id": "1AlH0fj-nvjl"
      }
    },
    {
      "cell_type": "markdown",
      "source": [
        "## Normal Distribution (Gaussian Distribution):\n"
      ],
      "metadata": {
        "id": "AmNz5AlYo8_n"
      }
    },
    {
      "cell_type": "code",
      "execution_count": null,
      "metadata": {
        "id": "HU1Idzr91LPW",
        "colab": {
          "base_uri": "https://localhost:8080/",
          "height": 485
        },
        "outputId": "cd5517ff-5814-4342-f246-d131eecf5af5"
      },
      "outputs": [
        {
          "output_type": "display_data",
          "data": {
            "text/plain": [
              "<Figure size 640x480 with 1 Axes>"
            ],
            "image/png": "[encoded data removed]"
          },
          "metadata": {}
        },
        {
          "output_type": "execute_result",
          "data": {
            "text/plain": [
              "'This code generates random samples from a normal distribution with mean mu and standard deviation sigma.\\n It then plots a histogram of the samples along with the probability density function (PDF) of the normal distribution.'"
            ],
            "application/vnd.google.colaboratory.intrinsic+json": {
              "type": "string"
            }
          },
          "metadata": {},
          "execution_count": 2
        }
      ],
      "source": [
        "import numpy as np\n",
        "import matplotlib.pyplot as plt\n",
        "from scipy.stats import norm\n",
        "\n",
        "# Define parameters\n",
        "mu = 0  # mean\n",
        "sigma = 1  # standard deviation\n",
        "\n",
        "# Generate random samples from the normal distribution\n",
        "samples = np.random.normal(mu, sigma, 1000)\n",
        "\n",
        "# Plot the histogram of the samples\n",
        "plt.hist(samples, bins=30, density=True, alpha=0.7, label='Samples')\n",
        "\n",
        "# Plot the probability density function (PDF) of the normal distribution\n",
        "x = np.linspace(-5, 5, 100)\n",
        "pdf = norm.pdf(x, mu, sigma)\n",
        "plt.plot(x, pdf, 'r-', label='PDF')\n",
        "\n",
        "plt.xlabel('x')\n",
        "plt.ylabel('Probability Density')\n",
        "plt.legend()\n",
        "plt.show()\n",
        "\"\"\"This code generates random samples from a normal distribution with mean mu and standard deviation sigma.\n",
        " It then plots a histogram of the samples along with the probability density function (PDF) of the normal distribution.\"\"\""
      ]
    },
    {
      "cell_type": "markdown",
      "source": [
        "## Binomial Distribution:"
      ],
      "metadata": {
        "id": "YPxMgMZapj82"
      }
    },
    {
      "cell_type": "code",
      "source": [
        "from scipy.stats import binom\n",
        "\n",
        "# Define parameters\n",
        "n = 10  # number of trials\n",
        "p = 0.5  # probability of success\n",
        "\n",
        "# Calculate the probability mass function (PMF) for different values of k\n",
        "k_values = np.arange(0, n+1)\n",
        "pmf = binom.pmf(k_values, n, p)\n",
        "\n",
        "# Print the PMF values\n",
        "for k, pmf_value in zip(k_values, pmf):\n",
        "    print(f'P(X = {k}) = {pmf_value}')\n",
        "\n",
        "# Plot the PMF\n",
        "plt.bar(k_values, pmf)\n",
        "plt.xlabel('k')\n",
        "plt.ylabel('Probability')\n",
        "plt.show()\n",
        "'''This code calculates and prints the probability mass function (PMF) of the binomial distribution for different values of k (the number of successes) in n trials with probability of success p. It then plots the PMF as a bar chart.'''"
      ],
      "metadata": {
        "colab": {
          "base_uri": "https://localhost:8080/",
          "height": 676
        },
        "id": "BLqpJM5Wpjba",
        "outputId": "a024469c-b021-4fae-9015-ad572f54ef08"
      },
      "execution_count": null,
      "outputs": [
        {
          "output_type": "stream",
          "name": "stdout",
          "text": [
            "P(X = 0) = 0.0009765625\n",
            "P(X = 1) = 0.009765625000000002\n",
            "P(X = 2) = 0.04394531250000004\n",
            "P(X = 3) = 0.1171875\n",
            "P(X = 4) = 0.2050781249999999\n",
            "P(X = 5) = 0.24609375000000003\n",
            "P(X = 6) = 0.2050781249999999\n",
            "P(X = 7) = 0.11718749999999999\n",
            "P(X = 8) = 0.04394531250000004\n",
            "P(X = 9) = 0.009765625000000002\n",
            "P(X = 10) = 0.0009765625\n"
          ]
        },
        {
          "output_type": "display_data",
          "data": {
            "text/plain": [
              "<Figure size 640x480 with 1 Axes>"
            ],
            "image/png": "[encoded data removed]"
          },
          "metadata": {}
        },
        {
          "output_type": "execute_result",
          "data": {
            "text/plain": [
              "'This code calculates and prints the probability mass function (PMF) of the binomial distribution for different values of k (the number of successes) in n trials with probability of success p. It then plots the PMF as a bar chart.'"
            ],
            "application/vnd.google.colaboratory.intrinsic+json": {
              "type": "string"
            }
          },
          "metadata": {},
          "execution_count": 3
        }
      ]
    },
    {
      "cell_type": "markdown",
      "source": [
        "## Poisson Distribution:"
      ],
      "metadata": {
        "id": "IJ6JHFgfp5wl"
      }
    },
    {
      "cell_type": "code",
      "source": [
        "from scipy.stats import poisson\n",
        "\n",
        "# Define parameter\n",
        "lambda_ = 3  # average rate of events\n",
        "\n",
        "# Calculate the probability mass function (PMF) for different values of k\n",
        "k_values = np.arange(0, 11)\n",
        "pmf = poisson.pmf(k_values, lambda_)\n",
        "\n",
        "# Print the PMF values\n",
        "for k, pmf_value in zip(k_values, pmf):\n",
        "    print(f'P(X = {k}) = {pmf_value}')\n",
        "\n",
        "# Plot the PMF\n",
        "plt.bar(k_values, pmf)\n",
        "plt.xlabel('k')\n",
        "plt.ylabel('Probability')\n",
        "plt.show()\n",
        "'''This code calculates and prints the probability mass function (PMF) of the Poisson distribution for different values of k (the number of events) with an average rate of events lambda_. It then plots the PMF as a bar chart.'''"
      ],
      "metadata": {
        "colab": {
          "base_uri": "https://localhost:8080/",
          "height": 676
        },
        "id": "QU_QgddPp5M2",
        "outputId": "a45c9d62-7ea3-4798-8786-353679ea1dd9"
      },
      "execution_count": null,
      "outputs": [
        {
          "output_type": "stream",
          "name": "stdout",
          "text": [
            "P(X = 0) = 0.049787068367863944\n",
            "P(X = 1) = 0.14936120510359185\n",
            "P(X = 2) = 0.22404180765538775\n",
            "P(X = 3) = 0.22404180765538775\n",
            "P(X = 4) = 0.16803135574154085\n",
            "P(X = 5) = 0.10081881344492458\n",
            "P(X = 6) = 0.05040940672246224\n",
            "P(X = 7) = 0.02160403145248382\n",
            "P(X = 8) = 0.008101511794681432\n",
            "P(X = 9) = 0.002700503931560479\n",
            "P(X = 10) = 0.0008101511794681439\n"
          ]
        },
        {
          "output_type": "display_data",
          "data": {
            "text/plain": [
              "<Figure size 640x480 with 1 Axes>"
            ],
            "image/png": "[encoded data removed]"
          },
          "metadata": {}
        },
        {
          "output_type": "execute_result",
          "data": {
            "text/plain": [
              "'This code calculates and prints the probability mass function (PMF) of the Poisson distribution for different values of k (the number of events) with an average rate of events lambda_. It then plots the PMF as a bar chart.'"
            ],
            "application/vnd.google.colaboratory.intrinsic+json": {
              "type": "string"
            }
          },
          "metadata": {},
          "execution_count": 4
        }
      ]
    },
    {
      "cell_type": "markdown",
      "source": [
        "# Gaussian Normal Distribution"
      ],
      "metadata": {
        "id": "rz9vaZESqXTH"
      }
    },
    {
      "cell_type": "markdown",
      "source": [
        "## Generating Random Samples"
      ],
      "metadata": {
        "id": "VTfu8nGgqY9k"
      }
    },
    {
      "cell_type": "code",
      "source": [
        "import numpy as np\n",
        "\n",
        "# Define parameters\n",
        "mu = 0  # mean\n",
        "sigma = 1  # standard deviation\n",
        "sample_size = 1000\n",
        "\n",
        "# Generate random samples from the Gaussian distribution\n",
        "samples = np.random.normal(mu, sigma, sample_size)\n",
        "print(samples)\n",
        "'''np.random.normal() generates sample_size number of random samples from a Gaussian distribution with mean mu and standard deviation sigma. The samples array will contain the generated values.'''"
      ],
      "metadata": {
        "colab": {
          "base_uri": "https://localhost:8080/",
          "height": 1000
        },
        "id": "MHQgsJUOqhsw",
        "outputId": "a8688fc0-b4a6-4818-ec7c-844fbd76c5b8"
      },
      "execution_count": null,
      "outputs": [
        {
          "output_type": "stream",
          "name": "stdout",
          "text": [
            "[-1.84091961e+00  1.96937979e+00  1.26351560e+00 -5.51887601e-01\n",
            "  6.65311199e-01  7.00153996e-02  2.26720704e+00  4.75814239e-01\n",
            " -7.10757481e-01  1.95803693e-02  2.09830273e+00  1.03587811e-01\n",
            " -9.99998146e-01  4.51760412e-01 -5.68550013e-02  1.09032979e+00\n",
            "  1.23349927e-01  7.08513473e-01  1.42705163e+00 -4.32639155e-01\n",
            "  4.31261663e-01  3.36087137e-01  1.32345767e+00 -1.61088279e+00\n",
            "  9.54730512e-01  1.31415447e+00 -6.52884537e-01  7.01516475e-01\n",
            "  5.14088715e-01 -4.99764494e-01  1.79416582e+00 -4.06924694e-01\n",
            " -1.93275392e+00  8.34670966e-01  7.44971952e-01  4.12021770e-01\n",
            " -5.31127405e-01  5.44072339e-01  1.12641810e+00  9.29827174e-01\n",
            "  4.93000928e-01 -3.76421758e-01  3.48234649e-01  5.51126277e-01\n",
            " -1.93220685e-01 -5.84435312e-01  4.53817211e-01  2.29199832e+00\n",
            " -6.24300790e-01  1.15674487e+00  2.89485644e+00  5.26336859e-01\n",
            "  3.93562402e-01 -2.22388479e-01 -4.01515531e-01  8.07491258e-01\n",
            "  4.34035393e-01 -1.05048268e-01 -1.47289259e+00 -2.54253578e-01\n",
            "  1.21989904e-02 -7.93347164e-01 -2.11489712e+00  1.15040636e+00\n",
            "  7.45232576e-01  3.96115563e-02  3.29613432e-01 -9.15883677e-02\n",
            "  7.09831740e-01 -3.38122134e-01 -6.89098579e-01 -3.05004289e-01\n",
            " -2.54232338e+00  2.54601825e-01 -4.17132820e-01 -9.72784628e-01\n",
            "  1.46660421e+00 -2.35052088e-01  9.04125861e-01  1.98015927e+00\n",
            " -1.21454336e+00 -9.84717447e-01  1.17499711e+00  3.64151604e-01\n",
            "  3.02129718e-01 -4.17493465e-01  1.50385647e+00  2.15990116e+00\n",
            "  6.49833804e-01 -3.64231352e-01 -4.75234214e-01 -9.87652229e-01\n",
            " -3.46289851e-02  1.47855155e-01 -1.28256531e+00 -1.46429231e-01\n",
            "  1.14901535e+00  1.29210387e-01 -9.82299235e-01 -7.37002764e-01\n",
            " -1.42411162e+00 -1.10500714e+00  4.14713511e-01  5.13687637e-01\n",
            "  2.28248332e-01 -1.39836209e+00 -4.79772319e-01 -9.63533669e-01\n",
            "  1.16286523e+00  4.59580753e-01  6.66146352e-01  1.30997096e+00\n",
            " -2.69013291e-01  1.57788643e+00  9.15103610e-01 -1.58815537e+00\n",
            " -3.27236033e-01 -5.18276490e-02  7.30250038e-01  5.02233678e-01\n",
            " -2.94392191e-01  1.45293309e-02 -8.73860223e-01 -7.89314557e-01\n",
            "  3.77952903e-02  1.27417738e-01  1.37855342e+00  3.95747294e-01\n",
            " -2.13138235e-01  5.53189033e-01 -1.44721022e-01  2.00277993e+00\n",
            " -1.27220646e-01  4.57867004e-01  5.15255004e-01 -1.31139851e+00\n",
            " -2.74900698e-01  2.44500563e-01 -6.13403544e-01 -8.71184364e-01\n",
            "  7.03640330e-01 -5.71482963e-01 -8.86318450e-01  3.92178081e-01\n",
            " -3.49220630e-02 -7.60038422e-02 -5.64542926e-02  1.95573851e+00\n",
            " -1.07760046e+00 -7.76639721e-02 -1.23152884e+00  1.69256391e+00\n",
            "  8.40225082e-01  1.60393205e+00 -6.03242409e-02  1.39493576e+00\n",
            "  1.63350523e+00 -5.84475352e-01  7.62585202e-01  1.20629990e+00\n",
            "  2.09763517e-01  6.99988998e-01  2.54617526e+00  1.60085352e+00\n",
            "  6.65455389e-01  1.93737253e+00  4.98673214e-02  1.30243853e+00\n",
            "  1.40506734e-01  4.34186066e-02 -5.59238173e-01  5.91290666e-01\n",
            " -4.12646792e-01  3.74196324e-01  2.90096601e-01 -6.82259125e-02\n",
            "  5.94679165e-02  8.40326036e-01 -2.60117208e+00 -1.58342249e+00\n",
            " -3.03802830e-01 -9.28548105e-02  7.67625412e-01 -1.60125234e-01\n",
            " -1.33991755e+00 -4.83419373e-01  1.12710537e-01 -5.98444148e-01\n",
            "  1.42201017e+00  6.10981246e-01  3.14970824e+00  1.24224354e+00\n",
            "  1.13254042e+00 -1.32239785e-01 -2.09354984e-01  2.54182152e-01\n",
            " -2.01628516e-01 -1.57950931e+00 -9.48956856e-01 -1.51727828e+00\n",
            "  8.14387269e-01  1.64767859e+00  1.32187333e+00 -2.90851685e-01\n",
            "  5.40015689e-01 -7.26699602e-01  3.56314314e-01 -5.34861546e-01\n",
            "  4.79937273e-01  1.57504113e+00  4.59426638e-01 -2.13877877e-01\n",
            " -2.20267727e-01 -1.11713471e-01  6.87961171e-01 -3.16589457e-01\n",
            "  8.52503307e-01 -1.03613486e+00 -1.64663810e+00  1.67423738e-01\n",
            " -6.13104835e-01  1.15217623e-01  1.86283129e+00 -3.07308886e-01\n",
            " -5.56939964e-02 -7.44619771e-01 -1.28636347e+00  3.44141922e-01\n",
            "  1.13208323e+00  1.54521029e-01 -7.48997626e-01 -1.54844867e+00\n",
            "  2.19284729e-01 -4.08518640e-01  1.24729855e-01  5.42855548e-01\n",
            " -6.11115504e-01  1.73860424e+00 -3.18607172e-01  2.08510583e+00\n",
            "  6.34532000e-01 -2.01873852e+00  1.08160720e+00 -3.30950162e-01\n",
            "  1.26737562e+00  1.04590264e+00  9.04340462e-01  3.82658643e-01\n",
            "  1.44077608e+00  2.04726161e-01  1.94995235e-02 -4.74302469e-01\n",
            " -2.19879863e-01  1.69423036e+00  7.74205243e-01 -1.58385890e+00\n",
            " -1.29850573e+00 -6.42938466e-01  5.48129588e-01 -4.74911738e-01\n",
            "  7.61674169e-01 -1.48555840e-01  3.29627896e-03  2.41197474e-01\n",
            "  1.61452108e+00 -6.51306283e-01 -8.19925626e-01 -1.70859757e+00\n",
            "  1.15283928e+00 -3.61864401e-01 -8.68459146e-02  1.25409590e+00\n",
            "  1.30635656e+00 -1.09391331e+00  1.55077802e+00 -5.10868710e-01\n",
            " -1.00771151e+00 -1.27816585e+00  2.14047837e+00  1.07936426e+00\n",
            "  6.79948266e-01  1.56692276e-01 -2.30921820e-01  5.12293239e-01\n",
            "  3.26092024e-01  7.70417234e-01 -6.26474972e-01 -2.50843331e-01\n",
            " -2.27429317e+00 -1.34204651e+00  1.29975875e+00 -6.40397999e-01\n",
            " -7.03858447e-01  1.52826064e-01 -3.89044436e-01  3.09146542e-01\n",
            "  2.42047010e-01 -2.86096452e-01  2.30207672e+00  1.08734099e+00\n",
            " -2.62262763e+00 -5.89463306e-01  2.87716055e-01 -9.95021047e-01\n",
            "  1.49065541e+00 -1.30527921e+00  1.66647547e-01 -2.86986116e-01\n",
            "  4.70938684e-01 -1.83866697e+00  1.68737106e+00 -4.41136757e-01\n",
            " -1.31380587e+00  1.25426849e-01 -5.13016206e-01  7.26846993e-02\n",
            "  4.39603576e-01 -1.18195754e+00 -4.06165714e-01 -7.10828003e-01\n",
            "  3.70393927e-01  3.18097669e-01 -5.85655776e-01  1.36341125e+00\n",
            "  8.73232470e-01 -2.39118124e-01  1.10582365e+00 -1.01452152e+00\n",
            "  3.54861954e-01  1.00655435e-01 -1.25177337e-01  1.37094197e+00\n",
            " -2.22683046e-02 -8.09015369e-01 -9.32773245e-01 -3.48786601e-01\n",
            " -1.81574315e+00  1.86192520e+00 -9.95086807e-01 -1.05605073e-03\n",
            " -5.64694950e-01 -3.61585418e-01 -6.52754745e-01 -7.62347024e-01\n",
            "  2.51083198e-01 -1.25531355e-01  1.93485471e-01 -1.25814887e+00\n",
            " -1.52330933e-01  1.50516040e-01 -3.56767400e-01 -4.12179654e-03\n",
            " -4.00608250e-01  4.45914387e-01  6.96970498e-01 -7.02378202e-01\n",
            " -7.43368872e-01  7.75182005e-01  1.39535417e+00  1.30084873e+00\n",
            "  4.16212567e-01 -1.07018919e-01 -2.61337734e-01 -1.62056996e+00\n",
            "  2.05339787e+00  8.10623868e-01 -6.30132634e-01 -8.61237074e-01\n",
            " -3.62278110e-01  1.83683794e+00  5.28204671e-02 -1.39934659e+00\n",
            " -1.15099133e+00 -7.77463954e-02  1.88647984e+00 -7.91633276e-01\n",
            "  1.58074598e+00 -2.68943014e-01 -1.38075690e+00 -2.16371135e+00\n",
            " -2.69285181e-01 -1.60374104e-01  1.09296293e-01  1.07512680e+00\n",
            "  1.68286993e+00 -3.07229849e-01  1.63442831e+00  1.09742636e+00\n",
            " -1.31430187e-02  1.21966422e+00  1.06533471e+00 -2.89597848e-01\n",
            " -1.98591369e-01  7.59658654e-01  4.50889710e-01 -1.39128259e-01\n",
            "  7.47904619e-01 -1.38934902e-01  3.26713499e+00  3.55754100e-01\n",
            " -1.11899292e+00 -1.06984036e+00  1.25000073e-01  1.89718983e+00\n",
            "  1.93199716e+00 -1.42420202e-01  1.15720984e+00  2.46560837e-02\n",
            "  1.45085977e+00  1.40025145e+00 -2.37828752e-01  3.02839084e-01\n",
            " -3.46120938e-02  2.30983037e-02 -1.08548916e+00  1.99028026e-01\n",
            "  2.33323727e-02  3.74935766e-01  3.92124868e-01 -1.15485808e+00\n",
            "  1.08740266e+00 -1.69175047e+00 -2.59886222e-01 -1.30754139e+00\n",
            "  1.84104189e+00  8.91482897e-01 -9.84213198e-01 -1.14894788e+00\n",
            "  3.11998317e-01  8.32050309e-01  1.74147732e+00  2.21678013e-01\n",
            " -4.67193186e-01  6.36194821e-01 -1.32567832e+00 -1.87821762e+00\n",
            " -2.59271645e-01 -4.78025234e-01  2.81635187e-01 -8.80086540e-01\n",
            " -3.67737489e-01 -4.95551149e-01 -1.00488409e+00  2.64788284e+00\n",
            "  4.21334467e-01 -4.37847109e-01  1.13601018e-01 -4.01641469e-02\n",
            "  1.52965878e+00 -4.53968294e-01  5.28552442e-01  1.30927098e+00\n",
            " -1.97523749e+00 -4.41929944e-01 -1.74891366e-01 -2.02134049e+00\n",
            " -5.13825578e-01  1.13834472e+00 -6.97723760e-02  6.76139749e-01\n",
            "  1.31125447e+00  1.94659597e-03 -1.59669386e-04  2.21424580e-01\n",
            "  5.04466322e-01 -1.17342076e+00 -1.35716117e+00  2.44097659e-02\n",
            " -6.30240469e-01 -7.53137510e-02  1.35953315e+00  2.76090643e+00\n",
            "  8.47404736e-01 -1.96537740e+00 -2.91389486e-01  6.31986810e-01\n",
            " -2.65029759e-01  7.24127350e-01  7.84284187e-01 -9.10441086e-01\n",
            "  7.44579566e-01  2.02111865e-01  1.36116877e+00 -3.68903703e-01\n",
            " -1.22269952e-01  3.26098441e-01 -1.78056901e+00 -6.27902151e-01\n",
            " -2.24066243e-01 -1.93964329e+00  5.84940778e-01 -1.39963191e+00\n",
            " -2.43169293e-01 -7.47594423e-01 -5.90823284e-01  1.28648455e-01\n",
            "  1.88765891e+00  1.20345055e-01  1.52702782e-02  9.50815649e-01\n",
            "  3.71775076e-01 -6.72467018e-01 -2.86940483e-01  6.65240861e-01\n",
            "  1.06130465e+00  1.51617949e+00  1.63040477e-01  2.24336170e+00\n",
            " -2.37204679e+00 -1.44480016e+00  8.67459220e-01  3.43017678e-01\n",
            "  1.04490181e+00  7.81908932e-01  1.39270685e+00  1.61539479e+00\n",
            "  1.59785216e+00  7.56230433e-01  6.57088963e-01 -9.95387617e-01\n",
            "  1.17552542e+00  2.70052537e-01  1.71659979e+00  1.05492725e+00\n",
            "  1.17808093e+00  8.84190372e-01  1.13417089e-01 -2.58914310e-01\n",
            "  1.90143881e+00 -6.50785747e-02 -1.81023472e+00 -1.96335776e-01\n",
            " -1.29080182e+00 -1.74513126e-02  1.02551235e+00 -4.17037582e-01\n",
            "  1.21785674e+00  2.07525488e-01 -8.29796773e-01  7.13899561e-01\n",
            " -9.66167585e-01 -1.28627801e+00  2.51439626e-01 -8.12897246e-01\n",
            "  8.89237010e-02  3.75893404e-01  2.19849037e+00  4.70626951e-01\n",
            "  5.25864573e-01  1.53209151e+00  8.40015358e-01  5.80273128e-01\n",
            " -2.09840360e+00  4.79794243e-01 -7.96026467e-01  1.01773877e+00\n",
            " -1.59637966e+00  2.10259249e+00 -4.47730387e-01 -7.56958249e-01\n",
            " -1.25258171e+00  9.30869758e-01 -1.16274320e+00  2.03177025e-01\n",
            "  5.64980755e-02 -1.20021863e+00  1.06143199e+00 -1.17437543e+00\n",
            "  1.39955322e+00 -5.60302850e-01 -1.37274606e+00  2.73538969e-01\n",
            " -1.62991927e+00 -5.29834881e-01  1.00229748e-01  2.16636929e-01\n",
            " -6.00611277e-01  3.92925024e-01 -4.28367635e-02 -2.74311460e-01\n",
            " -9.03136511e-02 -1.74735199e+00  1.22379629e+00 -1.35766676e+00\n",
            " -7.50965286e-01 -1.26067060e+00  1.47913057e+00 -1.25477184e+00\n",
            "  3.30398220e-01  4.25312969e-01  8.50689310e-01  2.26379390e+00\n",
            " -9.04220705e-02  3.56004875e-01 -7.03532384e-01 -5.40273433e-01\n",
            " -1.22846655e-01  7.57081256e-01  1.64279033e+00  4.02694428e-01\n",
            "  1.23071686e+00  6.77820167e-01  1.37000425e+00 -1.17766263e+00\n",
            "  4.58050748e-02 -1.66607523e-01 -1.70139043e+00 -1.00157038e+00\n",
            " -2.44043845e-01  2.94683320e-01 -2.67419632e-01 -3.81652139e-02\n",
            " -7.16965706e-01 -6.39226265e-01 -1.60744235e-01  1.98257516e+00\n",
            "  7.99263703e-02  1.63266447e-01  9.45148867e-01 -5.11691615e-01\n",
            "  4.04223552e-01 -4.68811054e-01 -2.11114378e-01 -4.98790429e-01\n",
            "  2.46137505e+00  1.49351190e+00 -1.42829920e+00 -4.21307377e-01\n",
            " -3.17585537e-01  8.69708470e-01 -2.35053000e+00 -7.84991276e-01\n",
            " -1.58169661e-01  1.82656020e-01 -1.38629292e+00 -4.51397947e-01\n",
            " -1.78951441e+00 -8.46166285e-02 -6.03917267e-01  1.65951002e-01\n",
            " -1.65625105e+00 -4.84641837e-01  1.26118502e+00 -3.19233620e-01\n",
            "  6.08336779e-01 -3.99431577e-01  1.16932289e+00 -1.27138222e-01\n",
            " -1.18025329e+00  7.52274434e-01 -1.04447572e+00  3.70298469e-02\n",
            " -9.06719287e-01  1.23684634e+00 -1.60954322e+00 -2.60555086e-01\n",
            " -1.31546084e+00 -1.67384928e+00 -8.66749368e-02  5.24609596e-01\n",
            "  3.90530185e-01 -1.13314228e+00  4.57025452e-01  2.42264258e-01\n",
            "  1.45148915e+00 -6.49669359e-01 -2.67900120e+00 -9.34369542e-01\n",
            "  3.20348143e-01 -1.64028562e-01 -3.85453741e-01 -1.22881790e+00\n",
            " -6.41506390e-01  5.22579549e-01 -2.03629619e+00 -1.23461388e-01\n",
            " -1.22407080e+00 -1.47305418e+00 -1.05867489e+00 -7.16380447e-01\n",
            " -4.37021849e-01  8.48048621e-01 -5.15610101e-01 -4.82543448e-01\n",
            " -2.37151464e-01  1.07236073e-02  1.68369514e+00  5.87102256e-01\n",
            " -8.59533659e-01 -8.45114245e-01 -1.22220884e+00  1.48261534e+00\n",
            " -2.14385403e-01 -1.68607490e+00  8.01422950e-02  6.43240506e-01\n",
            " -1.27011914e+00 -1.22313754e+00 -1.49961606e+00  1.95161997e+00\n",
            "  3.39483619e-01  5.81109702e-01 -7.28362434e-01  5.40589705e-01\n",
            " -2.00619774e-01  3.01184551e-01  2.22333794e+00  4.30937224e-01\n",
            "  2.67539223e-01  4.58468224e-01  1.37451301e+00  1.10870120e-01\n",
            "  4.55462386e-02  4.09362100e-01 -1.37486903e+00  1.59719252e+00\n",
            " -1.59997687e+00  1.02704944e+00  4.13238997e-01 -5.63229326e-01\n",
            "  4.48329338e-01  2.79100137e-01 -2.91083696e-01  2.35192369e-01\n",
            " -3.59309966e-01 -9.35101739e-01 -1.46419907e+00 -1.78956595e-01\n",
            " -9.72720055e-01 -6.76189909e-01  6.06855415e-01 -4.36034666e-01\n",
            "  8.97070207e-02 -7.66771892e-01 -3.62530193e-01  5.47880298e-01\n",
            " -5.60375601e-01  6.27477905e-01  6.90718855e-01 -1.63931136e+00\n",
            " -1.40509026e-01 -8.69042904e-01 -3.16003519e-01  1.50314907e+00\n",
            " -1.58143474e+00  1.71652548e+00  7.85672574e-01 -6.74574515e-01\n",
            " -8.93990670e-01 -2.65074681e-01  6.15924821e-01  4.90664491e-01\n",
            " -3.63577847e-01 -1.56849351e-01  1.06457236e+00  2.24159496e-02\n",
            "  1.15647974e-01 -1.42609854e+00 -6.22295006e-01 -9.64943333e-01\n",
            "  4.05091362e-01 -2.63102106e-01  7.05296395e-01 -1.41535555e-01\n",
            "  5.53538679e-01 -3.90437916e-01 -1.94150660e-02  1.01288593e+00\n",
            " -1.04968232e+00 -1.68638267e+00 -7.49554381e-01  1.49486031e+00\n",
            "  7.80589573e-01 -9.32075477e-01  4.20135987e-01 -9.60018240e-01\n",
            " -1.88153232e+00 -1.69420746e+00  9.43722577e-02  9.92979003e-01\n",
            "  8.45428363e-01  7.78213944e-01 -4.73295308e-01 -4.75776665e-01\n",
            "  1.60964453e+00  9.67801005e-01  1.12653814e+00 -8.72565249e-02\n",
            "  4.40889170e-02 -1.68947142e+00 -1.61571371e+00  9.84986951e-02\n",
            "  6.22036453e-01 -1.13188951e+00  1.65161058e+00 -2.47251242e+00\n",
            "  1.21866811e+00 -3.28019325e-01  2.94044723e-01 -4.77081571e-01\n",
            " -1.15603419e+00 -1.36967419e-01 -7.39139925e-01  1.69424928e+00\n",
            "  6.57901854e-01 -2.42786020e-01 -1.10101685e+00 -2.16455307e+00\n",
            " -4.72125003e-01  4.37334290e-02  1.80746854e-01  7.66018497e-01\n",
            " -1.52014724e+00  6.07742618e-01 -2.05367988e+00 -8.08310217e-01\n",
            " -2.81813744e-01  4.18814904e-01  4.97868774e-01  1.24329594e-02\n",
            " -6.97641301e-01  9.71197340e-01 -5.86424075e-01 -2.49581058e-01\n",
            " -7.25248050e-01 -4.97132106e-01 -1.57853219e+00  1.04226276e+00\n",
            " -3.25809618e-02  1.14681835e+00  7.57298372e-01 -2.83182041e-01\n",
            "  2.54172757e+00  1.76832224e+00  7.47249298e-02 -1.59135270e-01\n",
            "  2.62532440e-01  1.29287079e-01 -7.21743270e-01 -1.30754391e-01\n",
            "  1.10773302e+00 -6.24763850e-01  1.19723072e+00 -5.94686445e-02\n",
            " -1.57416649e+00  4.02122016e-01 -4.63845690e-01  5.62818044e-01\n",
            "  1.51237664e+00  5.86695670e-02 -7.15736032e-01 -4.59747759e-01\n",
            " -5.82223918e-01  1.59941522e-01  1.35837084e+00 -7.76101580e-01\n",
            "  3.56591844e-01 -1.18825037e+00 -5.78715261e-01 -6.12374425e-01\n",
            " -6.51984882e-01 -1.03488752e+00 -1.89624762e+00  1.05676479e+00\n",
            " -8.90319110e-01  1.07100478e+00 -6.22708714e-01 -6.72062740e-01\n",
            " -1.11890604e+00  7.74630737e-01 -7.24180122e-01 -1.00112345e+00\n",
            " -1.77829869e+00  1.37761089e+00  1.14873913e+00  2.51265897e-01\n",
            " -2.82381144e-01 -8.47950177e-01 -2.06477469e+00  6.12360076e-01\n",
            " -4.46167337e-01 -7.03418363e-01 -2.98711551e+00  1.31158111e+00\n",
            " -1.68811435e-01 -3.65014438e-01 -1.46860697e+00 -9.26564761e-01\n",
            "  1.30642733e+00  1.24284752e+00  1.50161928e+00 -4.30910481e-01\n",
            " -4.53391346e-01 -3.94087366e-01  1.39735959e+00 -1.53172245e+00\n",
            " -8.80571604e-03 -2.26992082e+00  1.66842751e+00 -8.09526305e-01\n",
            " -5.71684088e-01 -2.40371464e-01  3.84398436e-02 -5.41046251e-01\n",
            "  1.08370590e+00  9.47250015e-01  7.49268330e-01 -7.92240841e-02\n",
            "  1.14641122e-01 -1.06629536e+00  8.89303421e-01 -2.99021060e-01\n",
            " -5.25013082e-01 -4.49796155e-01  3.05431645e-01 -4.41310659e-01\n",
            "  2.13559338e+00 -2.13236754e-01  5.68673257e-01 -1.58181891e+00\n",
            " -9.90217405e-01 -1.23154671e+00 -6.59632815e-02 -3.39617889e-01\n",
            " -9.86259123e-01 -1.71709324e-01  1.81806537e+00  7.07668941e-02\n",
            " -3.84162310e-02  5.72321873e-01  6.48053260e-01 -1.85677967e-02\n",
            "  7.43904744e-01  3.73563234e-02  2.93180979e-01 -5.60991226e-01\n",
            "  9.16670978e-02  2.12276162e+00  8.93935256e-01  1.10704973e-01\n",
            "  1.76786455e+00 -1.65757463e+00 -1.22738162e+00  3.70596894e-01\n",
            "  2.75311814e-01 -5.26378290e-01  2.88216878e-01 -4.19257056e-01\n",
            " -2.81934079e-01  9.90539613e-01 -4.20599298e-01 -1.69761018e+00\n",
            " -1.32954384e+00  5.65308038e-01  4.76659109e-01  8.10776275e-01\n",
            " -1.72029437e-01  9.02677038e-02 -1.66782964e-01 -1.04354585e+00\n",
            "  2.18668117e-01 -1.92782988e-01  4.49377742e-01  1.91928722e+00\n",
            " -5.95463444e-01  1.59755749e+00 -8.61907966e-01 -1.32866726e+00\n",
            "  3.87295266e-01 -5.37774938e-01 -3.92144582e-01  1.43892372e+00\n",
            " -6.46302436e-01  7.90093394e-01  1.15013775e+00  3.11525071e-01\n",
            " -5.13528938e-01 -6.96777874e-01 -1.36586256e-01 -1.53854026e+00\n",
            " -1.01947565e+00 -2.26741607e-01 -1.91119806e-01 -4.17073380e-01\n",
            "  9.17096083e-01  2.11390084e+00 -6.93596402e-01  3.02219660e-01\n",
            " -9.96833271e-01  2.03845101e-01 -1.28692441e+00  1.11358983e+00\n",
            "  6.62490829e-01  1.46549373e+00  4.79792601e-01  9.75382362e-01\n",
            " -1.67399656e+00  2.52185161e+00  8.04643257e-02 -5.62897884e-01]\n"
          ]
        },
        {
          "output_type": "execute_result",
          "data": {
            "text/plain": [
              "'np.random.normal() generates sample_size number of random samples from a Gaussian distribution with mean mu and standard deviation sigma. The samples array will contain the generated values.'"
            ],
            "application/vnd.google.colaboratory.intrinsic+json": {
              "type": "string"
            }
          },
          "metadata": {},
          "execution_count": 5
        }
      ]
    },
    {
      "cell_type": "markdown",
      "source": [
        "## Probability Density Function (PDF):"
      ],
      "metadata": {
        "id": "Qm2WDMz8q5aS"
      }
    },
    {
      "cell_type": "code",
      "source": [
        "import numpy as np\n",
        "import matplotlib.pyplot as plt\n",
        "from scipy.stats import norm\n",
        "\n",
        "# Define parameters\n",
        "mu = 0  # mean\n",
        "sigma = 1  # standard deviation\n",
        "\n",
        "# Define range of x values\n",
        "x = np.linspace(-5, 5, 100)\n",
        "\n",
        "# Calculate the PDF for each x value\n",
        "pdf = norm.pdf(x, mu, sigma)\n",
        "\n",
        "# Plot the PDF\n",
        "plt.plot(x, pdf)\n",
        "plt.xlabel('x')\n",
        "plt.ylabel('Probability Density')\n",
        "plt.title('Gaussian Distribution (PDF)')\n",
        "plt.show()\n",
        "'''norm.pdf() calculates the probability density function (PDF) of the Gaussian distribution for each value in the x array. The resulting PDF values are then plotted using matplotlib.pyplot.plot().'''"
      ],
      "metadata": {
        "colab": {
          "base_uri": "https://localhost:8080/",
          "height": 508
        },
        "id": "1CjhESvPrPVD",
        "outputId": "b90ba6a1-1647-46f9-9e0f-2ae8454b41d7"
      },
      "execution_count": null,
      "outputs": [
        {
          "output_type": "display_data",
          "data": {
            "text/plain": [
              "<Figure size 640x480 with 1 Axes>"
            ],
            "image/png": "[encoded data removed]"
          },
          "metadata": {}
        },
        {
          "output_type": "execute_result",
          "data": {
            "text/plain": [
              "'norm.pdf() calculates the probability density function (PDF) of the Gaussian distribution for each value in the x array. The resulting PDF values are then plotted using matplotlib.pyplot.plot().'"
            ],
            "application/vnd.google.colaboratory.intrinsic+json": {
              "type": "string"
            }
          },
          "metadata": {},
          "execution_count": 7
        }
      ]
    },
    {
      "cell_type": "markdown",
      "source": [
        "## Cumulative Distribution Function (CDF):"
      ],
      "metadata": {
        "id": "Kpgs3rV2r2Je"
      }
    },
    {
      "cell_type": "code",
      "source": [
        "import numpy as np\n",
        "import matplotlib.pyplot as plt\n",
        "from scipy.stats import norm\n",
        "\n",
        "# Define parameters\n",
        "mu = 0  # mean\n",
        "sigma = 1  # standard deviation\n",
        "\n",
        "# Define range of x values\n",
        "x = np.linspace(-5, 5, 100)\n",
        "\n",
        "# Calculate the CDF for each x value\n",
        "cdf = norm.cdf(x, mu, sigma)\n",
        "\n",
        "# Plot the CDF\n",
        "plt.plot(x, cdf)\n",
        "plt.xlabel('x')\n",
        "plt.ylabel('Cumulative Probability')\n",
        "plt.title('Gaussian Distribution (CDF)')\n",
        "plt.show()\n",
        "'''norm.cdf() calculates the cumulative distribution function (CDF) of the Gaussian distribution for each value in the x array. The resulting CDF values are then plotted using matplotlib.pyplot.plot()'''"
      ],
      "metadata": {
        "colab": {
          "base_uri": "https://localhost:8080/",
          "height": 508
        },
        "id": "wqaMr6Ryr3pK",
        "outputId": "dc0c78f9-9074-46de-ec43-5b5ac82a1271"
      },
      "execution_count": null,
      "outputs": [
        {
          "output_type": "display_data",
          "data": {
            "text/plain": [
              "<Figure size 640x480 with 1 Axes>"
            ],
            "image/png": "[encoded data removed]"
          },
          "metadata": {}
        },
        {
          "output_type": "execute_result",
          "data": {
            "text/plain": [
              "'norm.cdf() calculates the cumulative distribution function (CDF) of the Gaussian distribution for each value in the x array. The resulting CDF values are then plotted using matplotlib.pyplot.plot()'"
            ],
            "application/vnd.google.colaboratory.intrinsic+json": {
              "type": "string"
            }
          },
          "metadata": {},
          "execution_count": 8
        }
      ]
    },
    {
      "cell_type": "markdown",
      "source": [
        "# Skewness and Kurtosis"
      ],
      "metadata": {
        "id": "5MvPqrzSsbIL"
      }
    },
    {
      "cell_type": "markdown",
      "source": [
        "**Skewness:**\n",
        "\n",
        "- Skewness measures the asymmetry of a probability distribution.\n",
        "\n",
        "- Positive skewness indicates a longer or fatter tail on the right side of the distribution, with the mean being greater than the median.\n",
        "\n",
        "- Negative skewness indicates a longer or fatter tail on the left side of the distribution, with the mean being less than the median.\n",
        "\n",
        "- Skewness value of 0 indicates perfect symmetry (although this does not imply the distribution is necessarily normal).\n",
        "\n",
        "- Skewness is typically calculated using the Pearson's moment coefficient of skewness or the Fisher-Pearson standardized moment coefficient of skewness.\n",
        "\n",
        "\n",
        "**Kurtosis:**\n",
        "\n",
        "- Kurtosis measures the tail heaviness or peakedness of a probability distribution.\n",
        "\n",
        "- Positive kurtosis (leptokurtic) indicates a distribution with heavy tails and a sharp peak, resulting in more extreme outliers than a normal distribution.\n",
        "\n",
        "- Negative kurtosis (platykurtic) indicates a distribution with lighter tails and a flatter peak compared to a normal distribution.\n",
        "\n",
        "- Kurtosis value of 0 indicates the same kurtosis as a normal distribution (mesokurtic).\n",
        "\n",
        "- Kurtosis is typically calculated using the fourth central moment and is sometimes adjusted by subtracting 3 to obtain excess kurtosis."
      ],
      "metadata": {
        "id": "4hyTSI5escyq"
      }
    },
    {
      "cell_type": "code",
      "source": [
        "import pandas as pd\n",
        "\n",
        "# Create a sample dataset\n",
        "data = [1, 2, 3, 4, 5, 2, 3, 4, 4, 5, 5, 5]\n",
        "\n",
        "# Calculate skewness and kurtosis\n",
        "skewness = pd.Series(data).skew()\n",
        "kurtosis = pd.Series(data).kurtosis()\n",
        "\n",
        "print(\"Skewness:\", skewness)\n",
        "print(\"Kurtosis:\", kurtosis)\n",
        "\"\"\"pd.Series(data).skew() calculates the skewness of the data, and pd.Series(data).kurtosis() calculates the kurtosis. The resulting skewness and kurtosis values provide information about the shape of the distribution.\"\"\""
      ],
      "metadata": {
        "colab": {
          "base_uri": "https://localhost:8080/",
          "height": 87
        },
        "id": "xvadSkDYsawK",
        "outputId": "b615b0e4-d8bd-4711-9d75-0316fce49e78"
      },
      "execution_count": null,
      "outputs": [
        {
          "output_type": "stream",
          "name": "stdout",
          "text": [
            "Skewness: -0.5818832416374002\n",
            "Kurtosis: -0.8284439929524914\n"
          ]
        },
        {
          "output_type": "execute_result",
          "data": {
            "text/plain": [
              "'pd.Series(data).skew() calculates the skewness of the data, and pd.Series(data).kurtosis() calculates the kurtosis. The resulting skewness and kurtosis values provide information about the shape of the distribution.'"
            ],
            "application/vnd.google.colaboratory.intrinsic+json": {
              "type": "string"
            }
          },
          "metadata": {},
          "execution_count": 11
        }
      ]
    },
    {
      "cell_type": "markdown",
      "source": [
        "# Regression Analysis"
      ],
      "metadata": {
        "id": "nYfUkAGftbRI"
      }
    },
    {
      "cell_type": "markdown",
      "source": [
        "Regression analysis is a statistical method used to model the relationship between a dependent variable and one or more independent variables. It aims to determine the extent to which the independent variables influence the dependent variable and to make predictions based on the observed data. Regression analysis is widely used in various fields, including economics, finance, social sciences, and data science. Here are the key concepts and steps involved in regression analysis:\n",
        "\n"
      ],
      "metadata": {
        "id": "bLEimJoStcrJ"
      }
    },
    {
      "cell_type": "markdown",
      "source": [
        "**Types of Regression Analysis:**\n",
        "\n",
        "- Simple Linear Regression: Involves a single independent variable to predict the dependent variable.\n",
        "\n",
        "- Multiple Linear Regression: Involves multiple independent variables to predict the dependent variable.\n",
        "\n",
        "- Polynomial Regression: Fits a polynomial equation to the data, allowing for nonlinear relationships.\n",
        "\n",
        "- Logistic Regression: Used when the dependent variable is binary or categorical."
      ],
      "metadata": {
        "id": "5SFhBqI6tjnA"
      }
    },
    {
      "cell_type": "markdown",
      "source": [
        "**Assumptions of Regression Analysis:**\n",
        "\n",
        "- Linearity: Assumes a linear relationship between the independent and dependent variables.\n",
        "\n",
        "- Independence: Assumes that the observations are independent of each other.\n",
        "\n",
        "- Homoscedasticity: Assumes constant variance of errors across all levels of the independent variables.\n",
        "\n",
        "- Normality: Assumes that the errors follow a normal distribution.\n",
        "No Multicollinearity: Assumes that the independent variables are not highly correlated with each other."
      ],
      "metadata": {
        "id": "rIgyar3QtypS"
      }
    },
    {
      "cell_type": "markdown",
      "source": [
        "**Steps in Regression Analysis:**\n",
        "\n",
        "- **Data Collection**: Gather the relevant data for the dependent and independent variables.\n",
        "\n",
        "- **Data Preparation**: Clean and preprocess the data, handle missing values, and scale the variables if necessary.\n",
        "\n",
        "- **Model Specification**: Determine the appropriate regression model based on the problem and the nature of the data.\n",
        "\n",
        "- **Model Estimation**: Use statistical methods to estimate the parameters of the regression model.\n",
        "\n",
        "- **Model Evaluation:** Assess the goodness of fit, interpret the coefficients, and test the significance of the model and variables.\n",
        "\n",
        "- **Prediction and Inference**: Use the fitted model to make predictions on new data and draw inferences about the relationship between variables.\n",
        "\n",
        "\n",
        "**Python Implementation:**\n",
        "\n",
        "- Python provides several libraries for regression analysis, including:\n",
        "\n",
        "- scikit-learn: A popular machine learning library that provides various regression models and evaluation metrics.\n",
        "statsmodels: A library specifically designed for statistical models, including regression analysis."
      ],
      "metadata": {
        "id": "6lIID1W4uIWY"
      }
    },
    {
      "cell_type": "code",
      "source": [
        "from sklearn.linear_model import LinearRegression\n",
        "import numpy as np\n",
        "\n",
        "# Prepare the data\n",
        "X = np.array([1, 2, 3, 4, 5]).reshape(-1, 1)  # independent variable\n",
        "y = np.array([2, 4, 6, 8, 10])  # dependent variable\n",
        "\n",
        "# Create and fit the model\n",
        "model = LinearRegression()\n",
        "model.fit(X, y)\n",
        "\n",
        "# Make predictions\n",
        "X_new = np.array([6]).reshape(-1, 1)\n",
        "y_pred = model.predict(X_new)\n",
        "\n",
        "# Print the coefficients and predicted value\n",
        "print(\"Coefficient:\", model.coef_[0])\n",
        "print(\"Intercept:\", model.intercept_)\n",
        "print(\"Predicted value for X = 6:\", y_pred[0])\n"
      ],
      "metadata": {
        "colab": {
          "base_uri": "https://localhost:8080/"
        },
        "id": "ACJkUvdpu0RU",
        "outputId": "c5929e00-6177-442c-f273-ee113db4c72e"
      },
      "execution_count": null,
      "outputs": [
        {
          "output_type": "stream",
          "name": "stdout",
          "text": [
            "Coefficient: 2.0\n",
            "Intercept: 0.0\n",
            "Predicted value for X = 6: 12.0\n"
          ]
        }
      ]
    },
    {
      "cell_type": "markdown",
      "source": [
        "# Continuous and Discrete Functions"
      ],
      "metadata": {
        "id": "Cagc9ndnvCDp"
      }
    },
    {
      "cell_type": "markdown",
      "source": [
        "## Continuous Functions:\n",
        "\n",
        "- Continuous functions describe relationships between variables where the independent variable takes on values within a continuous range.\n",
        "\n",
        "- The function is defined for every value within the range, including all the points in between.\n",
        "\n",
        "- The graph of a continuous function is a continuous curve without any breaks, holes, or jumps.\n",
        "\n",
        "- Examples of continuous functions include functions that model physical phenomena (e.g., position, temperature) or mathematical functions like polynomials, exponentials, and trigonometric functions.\n",
        "- Continuous functions can take on any value within their range, and they allow for smooth transitions and infinitesimally small changes in the independent variable.\n",
        "\n",
        "\n",
        "## Functions:\n",
        "\n",
        "- Discrete functions describe relationships between variables where the independent variable takes on distinct, separate values.\n",
        "\n",
        "- The function is defined only for specific values of the independent variable.\n",
        "The graph of a discrete function consists of separate points without any connections between them.\n",
        "\n",
        "- Examples of discrete functions include counting functions (e.g., number of students in a class, number of items sold), indicator functions (e.g., presence or absence of a characteristic), and functions defined on a finite set of values.\n",
        "\n",
        "- Discrete functions can only take on specific values within their domain, and they do not allow for intermediate values or infinitesimally small changes"
      ],
      "metadata": {
        "id": "aIcc1gtpvDZg"
      }
    },
    {
      "cell_type": "markdown",
      "source": [
        "## Continuous Function:"
      ],
      "metadata": {
        "id": "rLXoMxvnvk8c"
      }
    },
    {
      "cell_type": "code",
      "source": [
        "import numpy as np\n",
        "import matplotlib.pyplot as plt\n",
        "\n",
        "# Define the continuous function\n",
        "def continuous_function(x):\n",
        "    return np.sin(x)\n",
        "\n",
        "# Generate x values\n",
        "x = np.linspace(0, 2*np.pi, 100)\n",
        "\n",
        "# Compute y values for the continuous function\n",
        "y = continuous_function(x)\n",
        "\n",
        "# Plot the continuous function\n",
        "plt.plot(x, y)\n",
        "plt.xlabel('x')\n",
        "plt.ylabel('y')\n",
        "plt.title('Continuous Function')\n",
        "plt.show()\n"
      ],
      "metadata": {
        "colab": {
          "base_uri": "https://localhost:8080/",
          "height": 472
        },
        "id": "mXJMz2V4vzoc",
        "outputId": "d6e9ce86-45d0-4c61-857a-9413891ae890"
      },
      "execution_count": null,
      "outputs": [
        {
          "output_type": "display_data",
          "data": {
            "text/plain": [
              "<Figure size 640x480 with 1 Axes>"
            ],
            "image/png": "[encoded data removed]"
          },
          "metadata": {}
        }
      ]
    },
    {
      "cell_type": "markdown",
      "source": [
        "## Discrete Function"
      ],
      "metadata": {
        "id": "rvZSc8SEv7Bo"
      }
    },
    {
      "cell_type": "code",
      "source": [
        "import numpy as np\n",
        "import matplotlib.pyplot as plt\n",
        "\n",
        "# Define the discrete function\n",
        "x = np.array([1, 2, 3, 4, 5])\n",
        "y = np.array([2, 4, 6, 8, 10])\n",
        "\n",
        "# Plot the discrete function\n",
        "plt.plot(x, y, marker='o', linestyle=' ')\n",
        "plt.xlabel('x')\n",
        "plt.ylabel('y')\n",
        "plt.title('Discrete Function')\n",
        "plt.show()\n"
      ],
      "metadata": {
        "colab": {
          "base_uri": "https://localhost:8080/",
          "height": 472
        },
        "id": "BBZpTXBav8p2",
        "outputId": "743f17ad-50a3-40d6-ccc4-4bc436683503"
      },
      "execution_count": null,
      "outputs": [
        {
          "output_type": "display_data",
          "data": {
            "text/plain": [
              "<Figure size 640x480 with 1 Axes>"
            ],
            "image/png": "[encoded data removed]"
          },
          "metadata": {}
        }
      ]
    },
    {
      "cell_type": "markdown",
      "source": [
        "# Goodness of Fit"
      ],
      "metadata": {
        "id": "000xQtipwM1O"
      }
    },
    {
      "cell_type": "markdown",
      "source": [
        "**Residual Analysis:**\n",
        "-  are the differences between the observed values and the values predicted by the model.\n",
        "- By analyzing the residuals, you can assess the goodness of fit. \n",
        "- Key considerations include:\n",
        "\n",
        "    **Distribution**: Residuals should follow a normal distribution.\n",
        "\n",
        "    **Independence**: Residuals should be independent of each other.\n",
        "Constant Variance: Residuals should have a constant variance (homoscedasticity)."
      ],
      "metadata": {
        "id": "_1m7Iwo_wS7a"
      }
    },
    {
      "cell_type": "markdown",
      "source": [
        "**R-Squared (Coefficient of Determination):**\n",
        "\n",
        "- R-squared measures the proportion of the variation in the dependent variable that is explained by the model.\n",
        "\n",
        "- It ranges from 0 to 1, with a higher value indicating a better fit.\n",
        "\n",
        "- However, R-squared alone may not provide a complete picture of model performance and can be misleading in complex models."
      ],
      "metadata": {
        "id": "nHLzZjxgwpe2"
      }
    },
    {
      "cell_type": "code",
      "source": [
        "import numpy as np\n",
        "from sklearn.linear_model import LinearRegression\n",
        "\n",
        "# Generate sample data\n",
        "X = np.array([1, 2, 3, 4, 5]).reshape(-1, 1)\n",
        "y = np.array([2, 4, 6, 8, 10])\n",
        "\n",
        "# Create and fit the model\n",
        "model = LinearRegression()\n",
        "model.fit(X, y)\n",
        "\n",
        "# Calculate R-squared\n",
        "r_squared = model.score(X, y)\n",
        "\n",
        "print(\"R-squared:\", r_squared)\n"
      ],
      "metadata": {
        "colab": {
          "base_uri": "https://localhost:8080/"
        },
        "id": "s1GGMEMTxpEn",
        "outputId": "93388b6a-e0ee-428d-ef88-04fc207b5af5"
      },
      "execution_count": null,
      "outputs": [
        {
          "output_type": "stream",
          "name": "stdout",
          "text": [
            "R-squared: 1.0\n"
          ]
        }
      ]
    },
    {
      "cell_type": "markdown",
      "source": [
        "**Adjusted R-Squared:**\n",
        "\n",
        "- Adjusted R-squared takes into account the number of predictors in the model and penalizes the inclusion of unnecessary variables.\n",
        "\n",
        "- It provides a more reliable measure of model fit for models with different numbers of predictors."
      ],
      "metadata": {
        "id": "sURnCPpvw0Z8"
      }
    },
    {
      "cell_type": "markdown",
      "source": [
        "**Akaike Information Criterion (AIC) and Bayesian Information Criterion (BIC):**\n",
        "\n",
        "- AIC and BIC are information criteria that balance the goodness of fit and model complexity.\n",
        "\n",
        "\n",
        "- They take into account both the model's fit to the data and the number of parameters in the model.\n",
        "Lower AIC or BIC values indicate a better fit."
      ],
      "metadata": {
        "id": "wqW5jgCgw_9n"
      }
    },
    {
      "cell_type": "markdown",
      "source": [
        "**Chi-Square Test:**\n",
        "\n",
        "- The chi-square test is used to assess the goodness of fit between observed and expected frequencies in categorical data.\n",
        "\n",
        "- It compares the observed data with the expected frequencies under a specified theoretical distribution or model.\n",
        "\n",
        "- The test evaluates whether the observed and expected frequencies significantly differ."
      ],
      "metadata": {
        "id": "ezEgbD6VxKVm"
      }
    },
    {
      "cell_type": "code",
      "source": [
        "import numpy as np\n",
        "from scipy.stats import chi2_contingency\n",
        "\n",
        "# Observed frequencies\n",
        "observed = np.array([10, 20, 30, 40])\n",
        "\n",
        "# Expected frequencies\n",
        "expected = np.array([15, 15, 30, 25])\n",
        "\n",
        "# Perform chi-square test\n",
        "chi2, p, dof, expected = chi2_contingency([observed, expected])\n",
        "\n",
        "print(\"Chi-square statistic:\", chi2)\n",
        "print(\"P-value:\", p)\n"
      ],
      "metadata": {
        "colab": {
          "base_uri": "https://localhost:8080/"
        },
        "id": "xSbwa50pxuuj",
        "outputId": "e3c071b6-a91a-429d-bac0-233ee4c0f0a3"
      },
      "execution_count": null,
      "outputs": [
        {
          "output_type": "stream",
          "name": "stdout",
          "text": [
            "Chi-square statistic: 3.985811247575953\n",
            "P-value: 0.2630003405482971\n"
          ]
        }
      ]
    },
    {
      "cell_type": "markdown",
      "source": [
        "**Kolmogorov-Smirnov Test:**\n",
        "\n",
        "- The Kolmogorov-Smirnov test compares the observed cumulative distribution function (CDF) with the expected CDF from a theoretical distribution.\n",
        "\n",
        "- It tests whether the observed data follows a specified distribution.\n",
        "\n",
        "- The test evaluates the maximum absolute difference between the observed and expected CDFs."
      ],
      "metadata": {
        "id": "97ErQ72LxWu9"
      }
    },
    {
      "cell_type": "code",
      "source": [
        "import numpy as np\n",
        "from scipy.stats import kstest\n",
        "\n",
        "# Sample data\n",
        "data = np.array([1, 2, 3, 4, 5])\n",
        "\n",
        "# Perform Kolmogorov-Smirnov test\n",
        "statistic, p_value = kstest(data, 'norm')\n",
        "\n",
        "print(\"Kolmogorov-Smirnov statistic:\", statistic)\n",
        "print(\"P-value:\", p_value)\n"
      ],
      "metadata": {
        "colab": {
          "base_uri": "https://localhost:8080/"
        },
        "id": "m5yFCHphx2vH",
        "outputId": "d10d101f-2de2-4bc4-acbe-21da4bf4c649"
      },
      "execution_count": null,
      "outputs": [
        {
          "output_type": "stream",
          "name": "stdout",
          "text": [
            "Kolmogorov-Smirnov statistic: 0.8413447460685429\n",
            "P-value: 0.00020104917170277151\n"
          ]
        }
      ]
    },
    {
      "cell_type": "markdown",
      "source": [
        "# Normality Test"
      ],
      "metadata": {
        "id": "hkTeCc91yCYQ"
      }
    },
    {
      "cell_type": "markdown",
      "source": [
        "## Shapiro-Wilk Test:"
      ],
      "metadata": {
        "id": "rFRrO2nwyD-e"
      }
    },
    {
      "cell_type": "code",
      "source": [
        "import numpy as np\n",
        "from scipy.stats import shapiro\n",
        "\n",
        "# Generate sample data\n",
        "data = np.random.normal(loc=0, scale=1, size=100)\n",
        "\n",
        "# Perform Shapiro-Wilk test\n",
        "statistic, p_value = shapiro(data)\n",
        "\n",
        "print(\"Shapiro-Wilk statistic:\", statistic)\n",
        "print(\"P-value:\", p_value)\n"
      ],
      "metadata": {
        "colab": {
          "base_uri": "https://localhost:8080/"
        },
        "id": "BDmTKmWwwOmN",
        "outputId": "b62e4df3-73cf-43eb-b7e1-9bcd3e8c05d6"
      },
      "execution_count": null,
      "outputs": [
        {
          "output_type": "stream",
          "name": "stdout",
          "text": [
            "Shapiro-Wilk statistic: 0.9872109293937683\n",
            "P-value: 0.45196452736854553\n"
          ]
        }
      ]
    },
    {
      "cell_type": "markdown",
      "source": [
        "## Anderson-Darling Test"
      ],
      "metadata": {
        "id": "ho2BFy2UyLCE"
      }
    },
    {
      "cell_type": "code",
      "source": [
        "import numpy as np\n",
        "from scipy.stats import anderson\n",
        "\n",
        "# Generate sample data\n",
        "data = np.random.normal(loc=0, scale=1, size=100)\n",
        "\n",
        "# Perform Anderson-Darling test\n",
        "result = anderson(data)\n",
        "\n",
        "print(\"Anderson-Darling statistic:\", result.statistic)\n",
        "print(\"Critical values:\", result.critical_values)\n",
        "print(\"Significance levels:\", result.significance_level)\n"
      ],
      "metadata": {
        "colab": {
          "base_uri": "https://localhost:8080/"
        },
        "id": "HUXceUB1yO2_",
        "outputId": "812874ba-b1ca-4622-a345-d37a234de3f3"
      },
      "execution_count": null,
      "outputs": [
        {
          "output_type": "stream",
          "name": "stdout",
          "text": [
            "Anderson-Darling statistic: 0.478292249723296\n",
            "Critical values: [0.555 0.632 0.759 0.885 1.053]\n",
            "Significance levels: [15.  10.   5.   2.5  1. ]\n"
          ]
        }
      ]
    },
    {
      "cell_type": "markdown",
      "source": [
        "## Kolmogorov-Smirnov Test"
      ],
      "metadata": {
        "id": "rIpT9xZcySCd"
      }
    },
    {
      "cell_type": "code",
      "source": [
        "import numpy as np\n",
        "from scipy.stats import kstest\n",
        "\n",
        "# Generate sample data\n",
        "data = np.random.normal(loc=0, scale=1, size=100)\n",
        "\n",
        "# Perform Kolmogorov-Smirnov test\n",
        "statistic, p_value = kstest(data, 'norm')\n",
        "\n",
        "print(\"Kolmogorov-Smirnov statistic:\", statistic)\n",
        "print(\"P-value:\", p_value)\n"
      ],
      "metadata": {
        "colab": {
          "base_uri": "https://localhost:8080/"
        },
        "id": "gaj2UGa0yYcO",
        "outputId": "f528491c-601b-4f42-decc-084d63a772c9"
      },
      "execution_count": null,
      "outputs": [
        {
          "output_type": "stream",
          "name": "stdout",
          "text": [
            "Kolmogorov-Smirnov statistic: 0.07684583008290014\n",
            "P-value: 0.569601248934576\n"
          ]
        }
      ]
    },
    {
      "cell_type": "markdown",
      "source": [
        "# ANOVA"
      ],
      "metadata": {
        "id": "6U9P5DyGAbTV"
      }
    },
    {
      "cell_type": "markdown",
      "source": [
        "ANOVA (Analysis of Variance) is a statistical technique used to compare the means of two or more groups or treatments. It determines whether there are significant differences among the group means by analyzing the variation within and between groups. ANOVA is widely used in various fields, including experimental research, social sciences, and industrial quality control. There are different types of ANOVA, such as one-way ANOVA, two-way ANOVA, and repeated measures ANOVA, each suitable for different experimental designs."
      ],
      "metadata": {
        "id": "TNKeLMxiAohc"
      }
    },
    {
      "cell_type": "markdown",
      "source": [
        "## One way ANOVA\n",
        "\n",
        "One-way ANOVA (Analysis of Variance) is a statistical test used to compare the means of three or more groups to determine if there are significant differences among them. It is an extension of the independent samples t-test for more than two groups. ANOVA analyzes the variance within each group and the variance between the groups to make statistical inferences."
      ],
      "metadata": {
        "id": "LcPR3LO_Jbg7"
      }
    },
    {
      "cell_type": "code",
      "source": [
        "import numpy as np\n",
        "from scipy.stats import f_oneway\n",
        "\n",
        "# Generate the data for three groups\n",
        "group1 = np.array([1, 2, 3, 4, 5])\n",
        "group2 = np.array([2, 4, 6, 8, 10])\n",
        "group3 = np.array([3, 6, 9, 12, 15])\n",
        "\n",
        "# Perform one-way ANOVA\n",
        "f_statistic, p_value = f_oneway(group1, group2, group3)\n",
        "\n",
        "print(\"One-way ANOVA:\")\n",
        "print(\"F-statistic:\", f_statistic)\n",
        "print(\"P-value:\", p_value)\n"
      ],
      "metadata": {
        "colab": {
          "base_uri": "https://localhost:8080/"
        },
        "id": "nbqc_d6WKqcT",
        "outputId": "3c08ffb0-4fb7-4a39-f029-b49610a72217"
      },
      "execution_count": 27,
      "outputs": [
        {
          "output_type": "stream",
          "name": "stdout",
          "text": [
            "One-way ANOVA:\n",
            "F-statistic: 3.857142857142857\n",
            "P-value: 0.05086290933139865\n"
          ]
        }
      ]
    },
    {
      "cell_type": "markdown",
      "source": [
        "## Two way ANOVA\n",
        "\n",
        "wo-way ANOVA (Analysis of Variance) is a statistical test used to analyze the effects of two independent categorical factors on a continuous outcome variable. It allows us to examine the interaction between the two factors and determine if they have a significant influence on the outcome variable. Two-way ANOVA is an extension of one-way ANOVA, which compares the means across multiple groups."
      ],
      "metadata": {
        "id": "LiqDbtJ6Kw9P"
      }
    },
    {
      "cell_type": "code",
      "source": [
        "import pandas as pd\n",
        "import statsmodels.api as sm\n",
        "from statsmodels.formula.api import ols\n",
        "\n",
        "# Create a dataframe with the data\n",
        "data = pd.DataFrame({\n",
        "    'Group': ['A', 'A', 'A', 'B', 'B', 'B', 'C', 'C', 'C'],\n",
        "    'Factor1': ['X', 'Y', 'X', 'Y', 'X', 'Y', 'X', 'Y', 'X'],\n",
        "    'Outcome': [10, 15, 12, 8, 11, 9, 14, 16, 13]\n",
        "})\n",
        "\n",
        "# Fit the two-way ANOVA model\n",
        "model = ols('Outcome ~ Group + Factor1 + Group:Factor1', data=data).fit()\n",
        "anova_table = sm.stats.anova_lm(model)\n",
        "\n",
        "print(\"Two-way ANOVA results:\")\n",
        "print(anova_table)\n"
      ],
      "metadata": {
        "colab": {
          "base_uri": "https://localhost:8080/"
        },
        "id": "dVZHXrcgKvXU",
        "outputId": "53127a66-742a-425d-f07a-1a416f178996"
      },
      "execution_count": 28,
      "outputs": [
        {
          "output_type": "stream",
          "name": "stdout",
          "text": [
            "Two-way ANOVA results:\n",
            "                df     sum_sq    mean_sq          F    PR(>F)\n",
            "Group          2.0  38.000000  19.000000  19.000000  0.019793\n",
            "Factor1        1.0   3.555556   3.555556   3.555556  0.155827\n",
            "Group:Factor1  2.0  15.444444   7.722222   7.722222  0.065597\n",
            "Residual       3.0   3.000000   1.000000        NaN       NaN\n"
          ]
        }
      ]
    },
    {
      "cell_type": "markdown",
      "source": [
        "# Homoscedasticity\n",
        "\n",
        "Homoscedasticity refers to the assumption of equal variance in the error terms or residuals across the levels of the independent variable(s) in a regression or ANOVA model. It is one of the key assumptions in these analyses and is essential for obtaining reliable and valid results.\n",
        "\n",
        "When the assumption of homoscedasticity is met, it implies that the spread or dispersion of the residuals is constant across all levels of the independent variable(s). In other words, the variability of the errors is the same across the range of predicted values. This assumption ensures that the statistical tests and confidence intervals associated with the model are accurate.\n",
        "\n",
        "If homoscedasticity is violated and the residuals show a systematic pattern of increasing or decreasing variability across the range of the independent variable(s), it is known as heteroscedasticity. Heteroscedasticity can lead to biased coefficient estimates, incorrect standard errors, and unreliable p-values, thereby affecting the validity of statistical inferences."
      ],
      "metadata": {
        "id": "uGfDQ0m9A8zz"
      }
    },
    {
      "cell_type": "code",
      "source": [
        "import numpy as np\n",
        "import matplotlib.pyplot as plt\n",
        "from sklearn.linear_model import LinearRegression\n",
        "\n",
        "# Generate sample data\n",
        "X = np.random.uniform(low=0, high=10, size=(100, 1))\n",
        "y = 2*X + np.random.normal(loc=0, scale=2, size=(100,))\n",
        "\n",
        "# Fit linear regression model\n",
        "model = LinearRegression()\n",
        "model.fit(X, y)\n",
        "\n",
        "# Compute residuals\n",
        "residuals = y - model.predict(X)\n",
        "\n",
        "# Create scatterplot of residuals vs. predicted values\n",
        "plt.scatter(model.predict(X), residuals)\n",
        "plt.xlabel(\"Predicted Values\")\n",
        "plt.ylabel(\"Residuals\")\n",
        "plt.title(\"Residual Plot\")\n",
        "plt.axhline(y=0, color='r', linestyle='-')\n",
        "plt.show()\n"
      ],
      "metadata": {
        "colab": {
          "base_uri": "https://localhost:8080/",
          "height": 472
        },
        "id": "FEnmtgATAdOS",
        "outputId": "3958cc34-409f-45cb-ce60-445e80ba6191"
      },
      "execution_count": 21,
      "outputs": [
        {
          "output_type": "display_data",
          "data": {
            "text/plain": [
              "<Figure size 640x480 with 1 Axes>"
            ],
            "image/png": "[encoded data removed]"
          },
          "metadata": {}
        }
      ]
    },
    {
      "cell_type": "markdown",
      "source": [
        "## Linear and Non-Linear Relationship with Regression\n",
        "\n",
        "In regression analysis, the relationship between the dependent variable and the independent variable(s) can be either linear or non-linear. The choice of the relationship depends on the nature of the data and the underlying theory or assumptions. Let's explore both linear and non-linear relationships in regression analysis"
      ],
      "metadata": {
        "id": "xu6mpHwmEfhc"
      }
    },
    {
      "cell_type": "markdown",
      "source": [
        "**Linear Relationship:**\n",
        "\n",
        "- A linear relationship assumes that there is a constant change in the dependent variable for a unit change in the independent variable(s).\n",
        "The relationship can be described by a straight line, with a constant slope and intercept.\n",
        "\n",
        "- Linear regression models, such as simple linear regression and multiple linear regression, are commonly used to model linear relationships.\n",
        "\n",
        "- The equation for a simple linear regression model is: y = b0 + b1*x , where y is the dependent variable, x is the independent variable, b0 is the y-intercept, and b1 is the slope coefficient.\n",
        "\n",
        "- In Python, you can use libraries like scikit-learn or statsmodels to perform linear regression analysis.\n",
        "\n",
        "\n",
        "**Non-linear Relationship:**\n",
        "\n",
        "- A non-linear relationship assumes that the change in the dependent variable is not constant for a unit change in the independent variable(s).\n",
        "\n",
        "- The relationship can be described by a curve or a non-linear function.\n",
        "Non-linear regression models are used to capture and estimate non-linear relationships.\n",
        "\n",
        "- There are various types of non-linear regression models, such as polynomial regression, exponential regression, logarithmic regression, and sigmoidal regression, among others.\n",
        "\n",
        "- The specific equation for a non-linear regression model depends on the chosen non-linear function and can be customized to fit the data.\n",
        "\n",
        "- In Python, you can use libraries like scipy.optimize or statsmodels to perform non-linear regression analysis."
      ],
      "metadata": {
        "id": "Utuc2kt3FkIk"
      }
    },
    {
      "cell_type": "markdown",
      "source": [
        "# T-Test\n",
        "\n",
        "The t-test is a statistical test used to compare the means of two groups and determine if they are significantly different from each other. It is commonly used when the sample size is small, and the population standard deviation is unknown.\n",
        "\n",
        "There are three main types of t-tests, each suited for different scenarios:\n",
        "\n",
        "**Independent Samples t-test:**\n",
        "\n",
        "This type of t-test is used when comparing the means of two independent groups.\n",
        "The groups are considered independent when the observations in one group are not related or paired with the observations in the other group.\n",
        "For example, comparing the test scores of students who received different teaching methods.\n",
        "\n",
        "**Paired Samples t-test:**\n",
        "\n",
        "This type of t-test is used when comparing the means of two related or paired groups.\n",
        "The groups are considered paired when each observation in one group is directly related or paired with a corresponding observation in the other group.\n",
        "For example, comparing the before-and-after measurements of the same individuals in a study.\n",
        "\n",
        "\n",
        "**One-Sample t-test:**\n",
        "\n",
        "This type of t-test is used to compare the mean of a single sample to a known or hypothesized value.\n",
        "It determines whether the observed sample mean is significantly different from the expected population mean.\n",
        "For example, testing whether the average height of a group of individuals is significantly different from a standard height."
      ],
      "metadata": {
        "id": "IviPWlRUGEGK"
      }
    },
    {
      "cell_type": "markdown",
      "source": [
        "*All types of t-tests follow a similar general procedure:*\n",
        "\n",
        "- Formulate the null hypothesis (H0) and alternative hypothesis (Ha).\n",
        "- Select the appropriate type of t-test based on the research question and the relationship between the groups.\n",
        "\n",
        "- Collect the necessary data and calculate the test statistic (t-statistic).\n",
        "Determine the degrees of freedom and the critical value based on the significance level.\n",
        "\n",
        "- Compare the calculated t-statistic with the critical value and calculate the p-value.\n",
        "\n",
        "- Make a decision to reject or fail to reject the null hypothesis based on the p-value and the chosen significance level."
      ],
      "metadata": {
        "id": "fNXu0tfBIsSk"
      }
    },
    {
      "cell_type": "code",
      "source": [
        "import numpy as np\n",
        "from scipy.stats import ttest_ind, ttest_rel, ttest_1samp\n",
        "\n",
        "# Independent Samples t-test\n",
        "group1 = np.array([1, 2, 3, 4, 5])\n",
        "group2 = np.array([6, 7, 8, 9, 10])\n",
        "t_statistic_ind, p_value_ind = ttest_ind(group1, group2)\n",
        "print(\"Independent Samples t-test:\")\n",
        "print(\"T-statistic:\", t_statistic_ind)\n",
        "print(\"P-value:\", p_value_ind)\n",
        "\n",
        "# Paired Samples t-test\n",
        "before = np.array([2, 3, 4, 5, 6])\n",
        "after = np.array([5, 6, 7, 8, 9])\n",
        "t_statistic_rel, p_value_rel = ttest_rel(before, after)\n",
        "print(\"\\nPaired Samples t-test:\")\n",
        "print(\"T-statistic:\", t_statistic_rel)\n",
        "print(\"P-value:\", p_value_rel)\n",
        "\n",
        "# One-Sample t-test\n",
        "sample = np.array([10, 12, 14, 16, 18])\n",
        "pop_mean = 15\n",
        "t_statistic_1samp, p_value_1samp = ttest_1samp(sample, pop_mean)\n",
        "print(\"\\nOne-Sample t-test:\")\n",
        "print(\"T-statistic:\", t_statistic_1samp)\n",
        "print(\"P-value:\", p_value_1samp)\n"
      ],
      "metadata": {
        "colab": {
          "base_uri": "https://localhost:8080/"
        },
        "id": "S-ZyQMOuFaR6",
        "outputId": "30f9c6dc-1fe7-4bbf-8114-0ab6d21f09c5"
      },
      "execution_count": 26,
      "outputs": [
        {
          "output_type": "stream",
          "name": "stdout",
          "text": [
            "Independent Samples t-test:\n",
            "T-statistic: -5.0\n",
            "P-value: 0.001052825793366539\n",
            "\n",
            "Paired Samples t-test:\n",
            "T-statistic: -inf\n",
            "P-value: 0.0\n",
            "\n",
            "One-Sample t-test:\n",
            "T-statistic: -0.7071067811865475\n",
            "P-value: 0.5185185185185183\n"
          ]
        },
        {
          "output_type": "stream",
          "name": "stderr",
          "text": [
            "/usr/local/lib/python3.10/dist-packages/scipy/stats/_axis_nan_policy.py:502: RuntimeWarning: Precision loss occurred in moment calculation due to catastrophic cancellation. This occurs when the data are nearly identical. Results may be unreliable.\n",
            "  res = hypotest_fun_out(*samples, **kwds)\n"
          ]
        }
      ]
    },
    {
      "cell_type": "markdown",
      "source": [
        "Independent Samples t-test:\n",
        "\n",
        "We have two independent groups: group1 and group2.\n",
        "We use the ttest_ind function to perform the independent samples t-test.\n",
        "The function returns the t-statistic and p-value for the test.\n",
        "\n",
        "Paired Samples t-test:\n",
        "\n",
        "We have two related or paired groups: before and after.\n",
        "We use the ttest_rel function to perform the paired samples t-test.\n",
        "The function calculates the t-statistic and p-value.\n",
        "\n",
        "One-Sample t-test:\n",
        "\n",
        "We have a single sample sample and a known population mean pop_mean.\n",
        "We use the ttest_1samp function to perform the one-sample t-test.\n",
        "The function computes the t-statistic and p-value."
      ],
      "metadata": {
        "id": "I9LFARCQJTR1"
      }
    },
    {
      "cell_type": "markdown",
      "source": [
        "# z-test \n",
        "\n",
        "The z-test is a statistical test that is used to compare a sample mean to a known population mean when the population standard deviation is known. It is based on the standard normal distribution (also known as the z-distribution) and is commonly used when the sample size is large.\n",
        "\n",
        "The steps to perform a z-test are as follows:\n",
        "\n",
        "**Formulate hypotheses: ** State the null hypothesis (H0) and the alternative hypothesis (Ha) that represent competing explanations or claims about the population mean.\n",
        "\n",
        "**Select a significance level:** Choose a significance level (α) to determine the threshold for accepting or rejecting the null hypothesis. Commonly used significance levels are 0.05 (5%) and 0.01 (1%).\n",
        "\n",
        "**Collect sample data:** Collect a representative sample from the population of interest.\n",
        "\n",
        "**Calculate the test statistic:** Calculate the z-score, which measures the number of standard deviations the sample mean deviates from the population mean.\n",
        "\n",
        "**Determine the critical value:** Determine the critical value from the z-distribution corresponding to the chosen significance level. It represents the threshold beyond which the null hypothesis is rejected.\n",
        "\n",
        "**Compare the test statistic with the critical value:** If the test statistic exceeds the critical value, reject the null hypothesis in favor of the alternative hypothesis. Otherwise, fail to reject the null hypothesis."
      ],
      "metadata": {
        "id": "9hseqF1_GgTn"
      }
    },
    {
      "cell_type": "code",
      "source": [
        "import numpy as np\n",
        "from scipy.stats import norm\n",
        "\n",
        "# Generate sample data\n",
        "sample = np.array([45, 48, 50, 52, 55])\n",
        "population_mean = 50\n",
        "population_std = 5\n",
        "\n",
        "# Perform z-test\n",
        "sample_mean = np.mean(sample)\n",
        "z_score = (sample_mean - population_mean) / (population_std / np.sqrt(len(sample)))\n",
        "p_value = 1 - norm.cdf(z_score)\n",
        "\n",
        "print(\"Z-score:\", z_score)\n",
        "print(\"P-value:\", p_value)\n"
      ],
      "metadata": {
        "colab": {
          "base_uri": "https://localhost:8080/"
        },
        "id": "ypMPeKdTHQSs",
        "outputId": "6f081a1d-e6e1-43bf-c659-9c0582d3fc3a"
      },
      "execution_count": 23,
      "outputs": [
        {
          "output_type": "stream",
          "name": "stdout",
          "text": [
            "Z-score: 0.0\n",
            "P-value: 0.5\n"
          ]
        }
      ]
    },
    {
      "cell_type": "markdown",
      "source": [
        "# Hypothesis Testing\n",
        "\n",
        "Hypothesis testing is a statistical method used to make inferences and draw conclusions about a population based on sample data. It involves formulating competing hypotheses, collecting and analyzing data, and determining the statistical evidence for or against the null hypothesis.\n",
        "\n",
        "The key steps in hypothesis testing are as follows:\n",
        "\n",
        "**Formulate hypotheses:**\n",
        "\n",
        "Null hypothesis (H0): It represents the default or status quo assumption. It states that there is no significant difference or relationship between variables, or that any observed difference is due to chance.\n",
        "Alternative hypothesis (Ha): It represents the alternative claim or the researcher's hypothesis. It states that there is a significant difference or relationship between variables.\n",
        "\n",
        "**Select a significance level:**\n",
        "\n",
        "The significance level (α) determines the threshold for accepting or rejecting the null hypothesis.\n",
        "Commonly used significance levels are 0.05 (5%) and 0.01 (1%), indicating that there is a 5% or 1% chance of rejecting the null hypothesis incorrectly (Type I error).\n",
        "\n",
        "**Collect sample data:**\n",
        "\n",
        "Collect a representative sample from the population of interest using appropriate sampling techniques.\n",
        "The sample should be sufficiently large to provide reliable results.\n",
        "\n",
        "**Choose a test statistic:**\n",
        "\n",
        "Select a test statistic that is appropriate for the hypothesis being tested.\n",
        "The choice of test statistic depends on factors such as the nature of the data (e.g., categorical or continuous), the research question, and the type of hypothesis being tested.\n",
        "\n",
        "**Calculate the p-value:**\n",
        "\n",
        "The p-value is the probability of observing the test statistic or more extreme values, assuming the null hypothesis is true.\n",
        "It quantifies the strength of evidence against the null hypothesis.\n",
        "If the p-value is below the significance level, the null hypothesis is rejected in favor of the alternative hypothesis.\n",
        "\n",
        "**Make a decision and draw conclusions:**\n",
        "\n",
        "Compare the p-value to the significance level.\n",
        "If the p-value is less than or equal to the significance level, reject the null hypothesis.\n",
        "If the p-value is greater than the significance level, fail to reject the null hypothesis (but not necessarily accept it)."
      ],
      "metadata": {
        "id": "uRc8LQCEHYjb"
      }
    },
    {
      "cell_type": "code",
      "source": [
        "import numpy as np\n",
        "from scipy.stats import ttest_ind\n",
        "\n",
        "# Generate two samples\n",
        "sample1 = np.array([1, 2, 3, 4, 5])\n",
        "sample2 = np.array([6, 7, 8, 9, 10])\n",
        "\n",
        "# Perform independent t-test\n",
        "t_statistic, p_value = ttest_ind(sample1, sample2)\n",
        "\n",
        "print(\"T-statistic:\", t_statistic)\n",
        "print(\"P-value:\", p_value)\n"
      ],
      "metadata": {
        "colab": {
          "base_uri": "https://localhost:8080/"
        },
        "id": "e8GhVhKAHx0i",
        "outputId": "d0e407a5-74f7-40e2-fa5d-21d11fdb274f"
      },
      "execution_count": 24,
      "outputs": [
        {
          "output_type": "stream",
          "name": "stdout",
          "text": [
            "T-statistic: -5.0\n",
            "P-value: 0.001052825793366539\n"
          ]
        }
      ]
    },
    {
      "cell_type": "markdown",
      "source": [
        "# Type I and Type II errors\n",
        "\n",
        "**Type I Error (False Positive)**:\n",
        "\n",
        "A Type I error occurs when the null hypothesis (H0) is rejected, but it is actually true.\n",
        "It represents a false positive result, indicating that we conclude there is a significant effect or difference when there is none in reality.\n",
        "The significance level (α) determines the probability of committing a Type I error.\n",
        "A smaller significance level (e.g., 0.01) reduces the chance of Type I error but increases the risk of Type II error.\n",
        "\n",
        "**Type II Error (False Negative):**\n",
        "\n",
        "A Type II error occurs when the null hypothesis (H0) is not rejected, but it is actually false.\n",
        "It represents a false negative result, indicating that we fail to detect a significant effect or difference that truly exists.\n",
        "The power of a statistical test (1 - β) represents the probability of correctly rejecting the null hypothesis and avoiding a Type II error.\n",
        "Factors affecting the power include sample size, effect size, and the chosen significance level."
      ],
      "metadata": {
        "id": "MjGSKzNkH4l6"
      }
    },
    {
      "cell_type": "code",
      "source": [
        "import numpy as np\n",
        "from scipy.stats import ttest_ind\n",
        "\n",
        "# Generate two samples (pretend they are from a clinical trial)\n",
        "group1 = np.array([2.1, 1.9, 2.2, 2.3, 2.0])  # Control group\n",
        "group2 = np.array([2.5, 2.4, 2.7, 2.6, 2.3])  # Treatment group\n",
        "\n",
        "# Perform independent t-test\n",
        "t_statistic, p_value = ttest_ind(group1, group2)\n",
        "\n",
        "# Set the significance level (alpha)\n",
        "alpha = 0.05\n",
        "\n",
        "# Make the decision\n",
        "if p_value < alpha:\n",
        "    print(\"Reject the null hypothesis. The drug is considered effective.\")\n",
        "else:\n",
        "    print(\"Fail to reject the null hypothesis. The drug is not considered effective.\")\n"
      ],
      "metadata": {
        "colab": {
          "base_uri": "https://localhost:8080/"
        },
        "id": "Sku7T-RQIO0K",
        "outputId": "40016d38-1a0e-41b9-fa3d-6064f98a0055"
      },
      "execution_count": 25,
      "outputs": [
        {
          "output_type": "stream",
          "name": "stdout",
          "text": [
            "Reject the null hypothesis. The drug is considered effective.\n"
          ]
        }
      ]
    },
    {
      "cell_type": "markdown",
      "source": [
        "# Implementation of continuous and categorical data"
      ],
      "metadata": {
        "id": "rr8S-SVnLG2K"
      }
    },
    {
      "cell_type": "markdown",
      "source": [
        "**t-Test with Group Comparison:**\n",
        "\n",
        "If you have one continuous variable and one categorical variable with two groups, you can use an independent samples t-test to compare the means of the continuous variable between the two groups. The t-test assesses whether the means are significantly different.\n",
        "Example: Comparing the average income between male and female employees.\n",
        "\n",
        "**Analysis of Variance (ANOVA):**\n",
        "\n",
        "ANOVA is used when you have one continuous variable and one categorical variable with more than two groups.\n",
        "One-way ANOVA: If you have one categorical variable, you can use one-way ANOVA to test for significant differences in means across multiple groups.\n",
        "Two-way ANOVA: If you have two categorical variables, you can use two-way ANOVA to examine the main effects of each variable as well as their interaction on the continuous variable.\n",
        "Example: Assessing the impact of different teaching methods (categorical) on student test scores (continuous).\n",
        "\n",
        "**Chi-Square Test of Independence:**\n",
        "\n",
        "When you have two categorical variables, you can use a Chi-Square test to determine if there is a significant association between the variables.\n",
        "Example: Analyzing the relationship between gender (categorical) and voting preference (categorical).\n",
        "\n",
        "**Analysis of Covariance (ANCOVA):**\n",
        "\n",
        "ANCOVA is used to analyze the relationship between a continuous outcome variable and one or more categorical predictors while controlling for one or more continuous covariates.\n",
        "Example: Examining the effect of a treatment (categorical) on blood pressure (continuous) while controlling for age (continuous).\n",
        "\n",
        "**Regression Analysis:**\n",
        "\n",
        "Regression analysis allows you to model the relationship between one or more continuous dependent variables and one or more independent variables, which can include both continuous and categorical predictors.\n",
        "Example: Predicting house prices (continuous) based on various features, including location (categorical) and square footage (continuous)."
      ],
      "metadata": {
        "id": "NP6FDDbpLIiH"
      }
    },
    {
      "cell_type": "code",
      "source": [
        "import numpy as np\n",
        "import pandas as pd\n",
        "from scipy.stats import ttest_ind, chi2_contingency\n",
        "import statsmodels.api as sm\n",
        "from statsmodels.formula.api import ols\n",
        "\n",
        "# Generate sample data\n",
        "np.random.seed(0)\n",
        "continuous_data = np.random.normal(loc=0, scale=1, size=100)\n",
        "categorical_data = np.random.choice(['Group A', 'Group B'], size=100)\n",
        "\n",
        "# Independent Samples t-test\n",
        "group_a = continuous_data[categorical_data == 'Group A']\n",
        "group_b = continuous_data[categorical_data == 'Group B']\n",
        "t_statistic, p_value = ttest_ind(group_a, group_b)\n",
        "print(\"Independent Samples t-test:\")\n",
        "print(\"T-statistic:\", t_statistic)\n",
        "print(\"P-value:\", p_value)\n",
        "\n",
        "# Chi-Square Test of Independence\n",
        "contingency_table = pd.crosstab(categorical_data, columns='count')\n",
        "chi2, p_value_chi2, _, _ = chi2_contingency(contingency_table)\n",
        "print(\"\\nChi-Square Test of Independence:\")\n",
        "print(\"Chi-Square statistic:\", chi2)\n",
        "print(\"P-value:\", p_value_chi2)\n",
        "\n",
        "# Regression Analysis\n",
        "data = pd.DataFrame({'Continuous': continuous_data, 'Categorical': categorical_data})\n",
        "model = ols('Continuous ~ Categorical', data=data).fit()\n",
        "anova_table = sm.stats.anova_lm(model)\n",
        "print(\"\\nRegression Analysis:\")\n",
        "print(anova_table)\n"
      ],
      "metadata": {
        "colab": {
          "base_uri": "https://localhost:8080/"
        },
        "id": "WFlHQXq6LY6Y",
        "outputId": "6cde402d-2bf6-4402-fcd7-ba833dfd08fe"
      },
      "execution_count": 29,
      "outputs": [
        {
          "output_type": "stream",
          "name": "stdout",
          "text": [
            "Independent Samples t-test:\n",
            "T-statistic: -0.42606751900980994\n",
            "P-value: 0.6709929950024285\n",
            "\n",
            "Chi-Square Test of Independence:\n",
            "Chi-Square statistic: 0.0\n",
            "P-value: 1.0\n",
            "\n",
            "Regression Analysis:\n",
            "               df      sum_sq   mean_sq         F    PR(>F)\n",
            "Categorical   1.0    0.187822  0.187822  0.181534  0.670993\n",
            "Residual     98.0  101.394840  1.034641       NaN       NaN\n"
          ]
        }
      ]
    }
  ]
}